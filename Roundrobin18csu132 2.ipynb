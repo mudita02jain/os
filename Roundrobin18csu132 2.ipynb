{
 "cells": [
  {
   "cell_type": "code",
   "execution_count": 6,
   "metadata": {},
   "outputs": [
    {
     "name": "stdout",
     "output_type": "stream",
     "text": [
      "Process(P)    Burst Time(BT)     Waiting Time(WT)    Turn-Around Time(TAT)\n",
      "  1 \t\t 5 \t\t 8 \t\t 13\n",
      "  2 \t\t 4 \t\t 6 \t\t 10\n",
      "  3 \t\t 10 \t\t 9 \t\t 19\n",
      "\n",
      "Average waiting time is 7.66667 \n",
      "Average turn around time is 14.00000 \n"
     ]
    }
   ],
   "source": [
    " def findWaitingTime(process, m, but,  \n",
    "                         wat, quantum):  \n",
    "    rem_but = [0] * m \n",
    "   \n",
    "    for i in range(n):  \n",
    "        rem_but[i] = but[i] \n",
    "    t = 0   \n",
    "    \n",
    "    while(1): \n",
    "        done = True \n",
    "        for i in range(m): \n",
    "              \n",
    "            if (rem_but[i] > 0) : \n",
    "                done = False \n",
    "                  \n",
    "                if (rem_but[i] > quantum) : \n",
    "                \n",
    "                    t += quantum    \n",
    "                    rem_but[i] -= quantum  \n",
    "    \n",
    "                else: \n",
    "                  \n",
    "                    t = t + rem_but[i]  \n",
    "                    wat[i] = t - but[i]  \n",
    "                    rem_but[i] = 0\n",
    "        if (done == True): \n",
    "            break\n",
    "              \n",
    "def findTurnAroundTime(process, m, but, wat, tart): \n",
    "      \n",
    "    for i in range(n): \n",
    "        tart[i] = but[i] + wat[i]  \n",
    "  \n",
    " \n",
    "def findavgTime(process, m, but, quantum):  \n",
    "    wat = [0] * m\n",
    "    tart = [0] * m  \n",
    "\n",
    "    findWaitingTime(process, m, but,  \n",
    "                         wat, quantum)  \n",
    " \n",
    "    findTurnAroundTime(process, m, but, \n",
    "                                wat, tart)  \n",
    "  \n",
    "    \n",
    "    print(\"Process(P)    Burst Time(BT)     Waiting\",  \n",
    "                     \"Time(WT)    Turn-Around Time(TAT)\") \n",
    "    total_wat = 0\n",
    "    total_tart = 0\n",
    "    for i in range(n): \n",
    "  \n",
    "        total_wat = total_wat + wat[i]  \n",
    "        total_tart = total_tart + tart[i]  \n",
    "        print(\" \", i + 1, \"\\t\\t\", but[i],  \n",
    "              \"\\t\\t\", wat[i], \"\\t\\t\", tart[i]) \n",
    "  \n",
    "    print(\"\\nAverage waiting time is %.5f \"%(total_wat /m) ) \n",
    "    print(\"Average turn around time is %.5f \"% (total_tart / m))  \n",
    "      \n",
    "# Driver code  \n",
    "if __name__ ==\"__main__\": \n",
    "      \n",
    "    \n",
    "    proc = [3,9,7] \n",
    "    m = 3\n",
    "    \n",
    "    burst__time = [5,4,10]  \n",
    "  \n",
    "      \n",
    "    quantum = 2;  \n",
    "    findavgTime(proc, m, burst__time, quantum) \n",
    "  \n",
    "  "
   ]
  },
  {
   "cell_type": "code",
   "execution_count": null,
   "metadata": {},
   "outputs": [],
   "source": []
  }
 ],
 "metadata": {
  "kernelspec": {
   "display_name": "Python 3",
   "language": "python",
   "name": "python3"
  },
  "language_info": {
   "codemirror_mode": {
    "name": "ipython",
    "version": 3
   },
   "file_extension": ".py",
   "mimetype": "text/x-python",
   "name": "python",
   "nbconvert_exporter": "python",
   "pygments_lexer": "ipython3",
   "version": "3.6.5"
  }
 },
 "nbformat": 4,
 "nbformat_minor": 2
}
