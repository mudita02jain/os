{
 "cells": [
  {
   "cell_type": "code",
   "execution_count": 8,
   "metadata": {},
   "outputs": [
    {
     "name": "stdout",
     "output_type": "stream",
     "text": [
      "Order in which processes is being executed\n",
      "1 3 2 \n",
      "Processes(P)    Burst Time(BT)    Waiting Time(WT)    Turn-Around Time(TAT)\n",
      "  1 \t\t 10 \t\t 0 \t\t 10\n",
      "  3 \t\t 8 \t\t 10 \t\t 18\n",
      "  2 \t\t 5 \t\t 18 \t\t 23\n",
      "\n",
      "Average waiting time is  9.33333 \n",
      "Average turn around time is   17.0\n"
     ]
    }
   ],
   "source": [
    "# Function to find the waiting time    \n",
    "def findWaitingTime(process, m, wat):  \n",
    "    wat[0] = 0  \n",
    "    for i in range(1, m):  \n",
    "        wat[i] = process[i - 1][1] + wat[i - 1]  \n",
    "  \n",
    "# Function to calculate turn around time  \n",
    "def findTurnAroundTime(process, m, wat, tart):  \n",
    "     \n",
    "    for i in range(m): \n",
    "        tart[i] = process[i][1] + wat[i]  \n",
    "  \n",
    "# Function to calculate average waiting  \n",
    "# and turn-around times.  \n",
    "def findavgTime(process, m):  \n",
    "    wat = [0] * m \n",
    "    tart = [0] * m  \n",
    " \n",
    "    findWaitingTime(process, m, wat)  \n",
    "    findTurnAroundTime(process, m, wat, tart)  \n",
    "\n",
    "    print(\"\\nProcesses(P)    Burst Time(BT)    Waiting\",  \n",
    "          \"Time(WT)    Turn-Around Time(TAT)\") \n",
    "    total_wat = 0\n",
    "    total_tart = 0\n",
    "    for i in range(m): \n",
    "  \n",
    "        total_wat = total_wat + wat[i]  \n",
    "        total_tart = total_tart + tart[i]  \n",
    "        print(\" \", process[i][0], \"\\t\\t\",  \n",
    "                   process[i][1], \"\\t\\t\",  \n",
    "                   wat[i], \"\\t\\t\", tart[i]) \n",
    "  \n",
    "    print(\"\\nAverage waiting time is  %.5f \"%(total_wat /m)) \n",
    "    print(\"Average turn around time is  \", total_tart / m)  \n",
    "            \n",
    "def priorityScheduling(proc, m): \n",
    "        \n",
    "    proc = sorted(proc, key = lambda proc:proc[2],  \n",
    "                                  reverse = True);  \n",
    "  \n",
    "    print(\"Order in which processes is being executed\") \n",
    "    for i in proc: \n",
    "        print(i[0], end = \" \") \n",
    "    findavgTime(proc, m)  \n",
    "      \n",
    "# Driver code  \n",
    "if __name__ ==\"__main__\":  \n",
    "    proc = [[1, 10, 1],  \n",
    "            [2, 5, 0],  \n",
    "            [3, 8, 1]] \n",
    "    m = 3\n",
    "    priorityScheduling(proc, m)"
   ]
  },
  {
   "cell_type": "code",
   "execution_count": null,
   "metadata": {},
   "outputs": [],
   "source": []
  }
 ],
 "metadata": {
  "kernelspec": {
   "display_name": "Python 3",
   "language": "python",
   "name": "python3"
  },
  "language_info": {
   "codemirror_mode": {
    "name": "ipython",
    "version": 3
   },
   "file_extension": ".py",
   "mimetype": "text/x-python",
   "name": "python",
   "nbconvert_exporter": "python",
   "pygments_lexer": "ipython3",
   "version": "3.6.5"
  }
 },
 "nbformat": 4,
 "nbformat_minor": 2
}
