{
 "cells": [
  {
   "cell_type": "markdown",
   "metadata": {},
   "source": [
    "# FCFS CPU SCHEDULING WITH ARRIVAL TIME</font></center>"
   ]
  },
  {
   "cell_type": "code",
   "execution_count": 1,
   "metadata": {},
   "outputs": [],
   "source": [
    "def waitingTime(n,arrival,burst,waiting,service):\n",
    "    service[0]=0\n",
    "    waiting[0]=0\n",
    "    for i in range(1,n):\n",
    "        service[i]=service[i-1]+burst[i-1]\n",
    "        waiting[i]=service[i]-arrival[i]\n",
    "        if (waiting[i] < 0):\n",
    "            waiting[i] = 0"
   ]
  },
  {
   "cell_type": "code",
   "execution_count": 2,
   "metadata": {},
   "outputs": [],
   "source": [
    "def turnAround(n,burst,waiting,tat):\n",
    "    for i in range(0,n):\n",
    "        tat[i]=burst[i]+waiting[i]"
   ]
  },
  {
   "cell_type": "code",
   "execution_count": 3,
   "metadata": {},
   "outputs": [
    {
     "name": "stdout",
     "output_type": "stream",
     "text": [
      "Enter number of processes : 3\n",
      "PROCESS  1\n",
      "Enter arrival time : \n",
      "0\n",
      "Enter burst time : \n",
      "6\n",
      "PROCESS  2\n",
      "Enter arrival time : \n",
      "7\n",
      "Enter burst time : \n",
      "0\n",
      "PROCESS  3\n",
      "Enter arrival time : \n",
      "5\n",
      "Enter burst time : \n",
      "4\n",
      "PROCESS\t\tARRIVAL TIME\tBURST TIME\tSERVICE TIME\tWAITING TIME\tTURN AROUND TIME\n",
      "P 1 \t\t 0 \t\t 6 \t\t 0 \t\t 0 \t\t 6\n",
      "P 2 \t\t 7 \t\t 0 \t\t 6 \t\t 0 \t\t 0\n",
      "P 3 \t\t 5 \t\t 4 \t\t 6 \t\t 1 \t\t 5\n",
      "\n",
      "Average waiting time =  0.3333333333333333\n",
      "Average turn around time =  3.6666666666666665\n"
     ]
    }
   ],
   "source": [
    "num=int(input(\"Enter number of processes : \"))\n",
    "burst=[]*num\n",
    "arrival=[]*num\n",
    "waiting=[0]*num\n",
    "tat=[0]*num\n",
    "service=[0]*num\n",
    "for i in range(0,num):\n",
    "    print(\"PROCESS \",i+1)\n",
    "    print(\"Enter arrival time : \")\n",
    "    arrival.append(int(input()))\n",
    "    print(\"Enter burst time : \")\n",
    "    burst.append(int(input()))\n",
    "waitingTime(num,arrival,burst,waiting,service)\n",
    "turnAround(num,burst,waiting,tat)\n",
    "average_waiting_time=sum(waiting)/num\n",
    "average_tat=sum(tat)/num\n",
    "\n",
    "print(\"PROCESS\\t\\tARRIVAL TIME\\tBURST TIME\\tSERVICE TIME\\tWAITING TIME\\tTURN AROUND TIME\")\n",
    "for i in range (0,num):\n",
    "    print(\"P\",i+1,\"\\t\\t\",arrival[i],\"\\t\\t\",burst[i],\"\\t\\t\",service[i],\"\\t\\t\",waiting[i],\"\\t\\t\",tat[i])\n",
    "print(\"\\nAverage waiting time = \",average_waiting_time)\n",
    "print(\"Average turn around time = \",average_tat)  "
   ]
  },
  {
   "cell_type": "code",
   "execution_count": null,
   "metadata": {},
   "outputs": [],
   "source": []
  }
 ],
 "metadata": {
  "kernelspec": {
   "display_name": "Python 3",
   "language": "python",
   "name": "python3"
  },
  "language_info": {
   "codemirror_mode": {
    "name": "ipython",
    "version": 3
   },
   "file_extension": ".py",
   "mimetype": "text/x-python",
   "name": "python",
   "nbconvert_exporter": "python",
   "pygments_lexer": "ipython3",
   "version": "3.6.5"
  }
 },
 "nbformat": 4,
 "nbformat_minor": 4
}
