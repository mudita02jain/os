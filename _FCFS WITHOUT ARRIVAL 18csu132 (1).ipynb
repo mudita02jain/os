{
 "cells": [
  {
   "cell_type": "markdown",
   "metadata": {},
   "source": [
    "# FCFS WITHOUT ARRIVAL TIME"
   ]
  },
  {
   "cell_type": "code",
   "execution_count": 4,
   "metadata": {},
   "outputs": [],
   "source": [
    "#Function to calculate waiting time of each process\n",
    "#waiting_time[0]=0\n",
    "#For remaining processes : \n",
    "#waiting_time[i]=burst_time[i-1]+waiting_time[i-1]\n",
    "def find_waiting_time(burst):\n",
    "    waiting=[]\n",
    "    waiting.append(0)\n",
    "    for i in range (1,num):\n",
    "        waiting.append(burst[i-1]+waiting[i-1])\n",
    "    return waiting"
   ]
  },
  {
   "cell_type": "code",
   "execution_count": 5,
   "metadata": {},
   "outputs": [],
   "source": [
    "\n",
    "def find_turn_around_time(burst,waiting):\n",
    "    tat=[]\n",
    "    for i in range (0,num):\n",
    "        tat.append(waiting[i]+burst[i])\n",
    "    return tat"
   ]
  },
  {
   "cell_type": "code",
   "execution_count": 6,
   "metadata": {
    "scrolled": true
   },
   "outputs": [
    {
     "name": "stdout",
     "output_type": "stream",
     "text": [
      "Enter number of processes : 3\n",
      "Enter burst time of process 1 : 3\n",
      "Enter burst time of process 2 : 2\n",
      "Enter burst time of process 3 : 1\n",
      "PROCESS\t\tBURST TIME\tWAITING TIME\tTURN AROUND TIME\n",
      "P 1 \t\t 3 \t\t 0 \t\t 3\n",
      "P 2 \t\t 2 \t\t 3 \t\t 5\n",
      "P 3 \t\t 1 \t\t 5 \t\t 6\n",
      "\n",
      "Average waiting time =  2.6666666666666665\n",
      "Average turn around time =  4.666666666666667\n"
     ]
    }
   ],
   "source": [
    "num=int(input(\"Enter number of processes : \"))\n",
    "\n",
    "#Input burst time of each process and store it in list \"burst\"\n",
    "burst=[]\n",
    "for i in range(0,num):\n",
    "    print(\"Enter burst time of process\",i+1,end=\" : \")\n",
    "    element=int(input())\n",
    "    burst.append(element)\n",
    "    \n",
    "waiting=find_waiting_time(burst)\n",
    "tat=find_turn_around_time(burst,waiting)\n",
    "average_waiting_time=sum(waiting)/num\n",
    "average_tat=sum(tat)/num\n",
    "\n",
    "#printing\n",
    "print(\"PROCESS\\t\\tBURST TIME\\tWAITING TIME\\tTURN AROUND TIME\")\n",
    "for i in range (0,num):\n",
    "    print(\"P\",i+1,\"\\t\\t\",burst[i],\"\\t\\t\",waiting[i],\"\\t\\t\",tat[i])\n",
    "print(\"\\nAverage waiting time = \",average_waiting_time)\n",
    "print(\"Average turn around time = \",average_tat)  "
   ]
  },
  {
   "cell_type": "code",
   "execution_count": null,
   "metadata": {},
   "outputs": [],
   "source": []
  }
 ],
 "metadata": {
  "kernelspec": {
   "display_name": "Python 3",
   "language": "python",
   "name": "python3"
  },
  "language_info": {
   "codemirror_mode": {
    "name": "ipython",
    "version": 3
   },
   "file_extension": ".py",
   "mimetype": "text/x-python",
   "name": "python",
   "nbconvert_exporter": "python",
   "pygments_lexer": "ipython3",
   "version": "3.6.5"
  }
 },
 "nbformat": 4,
 "nbformat_minor": 4
}
